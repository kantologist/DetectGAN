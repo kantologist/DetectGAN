{
 "cells": [
  {
   "cell_type": "code",
   "execution_count": 1,
   "metadata": {},
   "outputs": [],
   "source": [
    "import numpy as np\n",
    "import torch\n",
    "import torch.nn as nn\n",
    "import torchvision.transforms as transforms\n",
    "from torch.utils.data import DataLoader\n",
    "from torchvision import datasets\n",
    "from torchvision.utils import save_image\n",
    "import os\n",
    "import matplotlib.pyplot as plt\n",
    "\n",
    "%matplotlib inline"
   ]
  },
  {
   "cell_type": "code",
   "execution_count": 2,
   "metadata": {},
   "outputs": [],
   "source": [
    "# Define constants\n",
    "epochs = 200\n",
    "batch_size = 64\n",
    "lr = 0.0002\n",
    "nworkers = 8\n",
    "latent_dim = 100\n",
    "sample_interval = 400\n",
    "img_shape = (1, 28, 28)\n",
    "adversarial_loss = torch.nn.BCELoss()\n",
    "device = 'cuda'\n",
    "valid = torch.ones(batch_size, 1, device=device)\n",
    "fake = torch.zeros(batch_size, 1, device=device)\n"
   ]
  },
  {
   "cell_type": "code",
   "execution_count": 3,
   "metadata": {},
   "outputs": [],
   "source": [
    "# Configure data loader\n",
    "os.makedirs('./data/mnist', exist_ok=True)\n",
    "transform = transforms.Compose([\n",
    "                        transforms.ToTensor(),\n",
    "                        transforms.Normalize((0.5, 0.5, 0.5), (0.5, 0.5, 0.5))\n",
    "                   ])\n",
    "\n",
    "dataset = datasets.MNIST('./data/mnist', train=True, download=True, transform=transform)\n",
    "\n",
    "dataloader = torch.utils.data.DataLoader(dataset, batch_size=batch_size, shuffle=True, drop_last=True)\n"
   ]
  },
  {
   "cell_type": "code",
   "execution_count": 4,
   "metadata": {},
   "outputs": [],
   "source": [
    "class Generator1(nn.Module):\n",
    "    def __init__(self):\n",
    "        super(Generator1, self).__init__()\n",
    "\n",
    "        def block(in_feat, out_feat, normalize=True):\n",
    "            layers = [nn.Linear(in_feat, out_feat)]\n",
    "            if normalize:\n",
    "                layers.append(nn.BatchNorm1d(out_feat, 0.8))\n",
    "            layers.append(nn.LeakyReLU(0.2, inplace=True))\n",
    "            return layers\n",
    "\n",
    "        self.model = nn.Sequential(\n",
    "            *block(latent_dim, 128, normalize=False),\n",
    "            *block(128, 256),\n",
    "            *block(256, 512),\n",
    "            *block(512, 1024),\n",
    "            nn.Linear(1024, int(np.prod(img_shape))),\n",
    "            nn.Tanh()\n",
    "        )\n",
    "\n",
    "    def forward(self, z):\n",
    "        img = self.model(z)\n",
    "        img = img.view(img.size(0), *img_shape)\n",
    "        return img\n",
    "\n",
    "\n",
    "class Discriminator1(nn.Module):\n",
    "    def __init__(self):\n",
    "        super(Discriminator1, self).__init__()\n",
    "\n",
    "        self.model = nn.Sequential(\n",
    "            nn.Linear(int(np.prod(img_shape)), 512),\n",
    "            nn.LeakyReLU(0.2, inplace=True),\n",
    "            nn.Linear(512, 256),\n",
    "            nn.LeakyReLU(0.2, inplace=True),\n",
    "            nn.Linear(256, 1),\n",
    "            nn.Sigmoid()\n",
    "        )\n",
    "\n",
    "    def forward(self, img):\n",
    "        img_flat = img.view(img.size(0), -1)\n",
    "        validity = self.model(img_flat)\n",
    "\n",
    "        return validity\n",
    "\n",
    "class Generator2(nn.Module):\n",
    "    def __init__(self):\n",
    "        super(Generator2, self).__init__()\n",
    "\n",
    "        def block(in_feat, out_feat, normalize=True):\n",
    "            layers = [nn.Linear(in_feat, out_feat)]\n",
    "            if normalize:\n",
    "                layers.append(nn.BatchNorm1d(out_feat, 0.8))\n",
    "            layers.append(nn.LeakyReLU(0.2, inplace=True))\n",
    "            return layers\n",
    "\n",
    "        self.model = nn.Sequential(\n",
    "            *block(latent_dim, 128, normalize=False),\n",
    "            *block(128, 256),\n",
    "            *block(256, 512),\n",
    "            *block(512, 1024),\n",
    "            nn.Linear(1024, int(np.prod(img_shape))),\n",
    "            nn.Tanh()\n",
    "        )\n",
    "\n",
    "    def forward(self, z):\n",
    "        img = self.model(z)\n",
    "        img = img.view(img.size(0), *img_shape)\n",
    "        return img\n",
    "\n",
    "\n",
    "class Discriminator2(nn.Module):\n",
    "    def __init__(self):\n",
    "        super(Discriminator2, self).__init__()\n",
    "\n",
    "        self.model = nn.Sequential(\n",
    "            nn.Linear(int(np.prod(img_shape)), 512),\n",
    "            nn.LeakyReLU(0.2, inplace=True),\n",
    "            nn.Linear(512, 256),\n",
    "            nn.LeakyReLU(0.2, inplace=True),\n",
    "            nn.Linear(256, 1),\n",
    "            nn.Sigmoid()\n",
    "        )\n",
    "\n",
    "    def forward(self, img):\n",
    "        img_flat = img.view(img.size(0), -1)\n",
    "        validity = self.model(img_flat)\n",
    "\n",
    "        return validity    "
   ]
  },
  {
   "cell_type": "code",
   "execution_count": 12,
   "metadata": {},
   "outputs": [],
   "source": [
    "class GAN1(nn.Module):\n",
    "    def __init__(self):\n",
    "        super().__init__()\n",
    "        self.discriminator = Discriminator1().to(device)\n",
    "        self.generator = Generator1().to(device)\n",
    "\n",
    "    def forward(self, real_imgs):\n",
    "        # Generator Forward\n",
    "        z = torch.Tensor(np.random.normal(0, 1, (real_imgs.shape[0], latent_dim))).to(device)\n",
    "        self.gen_img = self.generator(z)\n",
    "        self.disc_gen = self.discriminator(self.gen_img)\n",
    "        # This clears the function graph built up for the discriminator\n",
    "        self.discriminator.zero_grad()\n",
    "\n",
    "        # Discriminator Forward\n",
    "        self.disc_gen_det = self.discriminator(self.gen_img.detach())\n",
    "        self.disc_real = self.discriminator(real_imgs)\n",
    "        \n",
    "        return self.gen_img, self.disc_gen, self.disc_gen_det, self.disc_real\n",
    "\n",
    "class GAN2(nn.Module):\n",
    "    def __init__(self):\n",
    "        super().__init__()\n",
    "        self.discriminator = Discriminator2().to(device)\n",
    "        self.generator = Generator2().to(device)\n",
    "\n",
    "    def forward(self, real_imgs):\n",
    "        # Generator Forward\n",
    "        z = torch.Tensor(np.random.normal(0, 1, (real_imgs.shape[0], latent_dim))).to(device)\n",
    "        self.gen_img = self.generator(z)\n",
    "        self.disc_gen = self.discriminator(self.gen_img)\n",
    "        # This clears the function graph built up for the discriminator\n",
    "        self.discriminator.zero_grad()\n",
    "\n",
    "        # Discriminator Forward\n",
    "        self.disc_gen_det = self.discriminator(self.gen_img.detach())\n",
    "        self.disc_real = self.discriminator(real_imgs)\n",
    "        \n",
    "        return self.gen_img, self.disc_gen, self.disc_gen_det, self.disc_real\n",
    "\n",
    "class GAN3(nn.Module):\n",
    "    def __init__(self, disc_epoch, gen_epoch, disc_gan, gen_gan):\n",
    "        super().__init__()\n",
    "        gan1 = torch.load(\"gan%d/models/gan%d.pt\" %(gen_gan, gen_epoch))\n",
    "        gan2 = torch.load(\"gan%d/models/gan%d.pt\" %(disc_gan, disc_epoch))\n",
    "        self.generator = gan1.generator.to(device)\n",
    "        self.discriminator = gan2.discriminator.to(device)\n",
    "\n",
    "    def forward(self, real_imgs):\n",
    "        # Generator Forward\n",
    "        z = torch.Tensor(np.random.normal(0, 1, (real_imgs.shape[0], latent_dim))).to(device)\n",
    "        self.gen_img = self.generator(z)\n",
    "        self.disc_gen = self.discriminator(self.gen_img)\n",
    "        # This clears the function graph built up for the discriminator\n",
    "        self.discriminator.zero_grad()\n",
    "\n",
    "        # Discriminator Forward\n",
    "        self.disc_gen_det = self.discriminator(self.gen_img.detach())\n",
    "        self.disc_real = self.discriminator(real_imgs)\n",
    "        \n",
    "        return self.gen_img, self.disc_gen, self.disc_gen_det, self.disc_real    "
   ]
  },
  {
   "cell_type": "code",
   "execution_count": 6,
   "metadata": {},
   "outputs": [],
   "source": [
    "def run_gan(loader, gan, optimizer_g, optimizer_d, epoch, gan_number):\n",
    "    for (img, _) in loader:\n",
    "        img = img.to(device)\n",
    "        gen_img, disc_gen, disc_gen_det, disc_real = gan(img)\n",
    "        optimizer_g.zero_grad()\n",
    "        fake_loss = adversarial_loss(disc_gen_det, fake)\n",
    "        real_loss = adversarial_loss(disc_real, valid)\n",
    "        g_loss = adversarial_loss(disc_gen, valid)\n",
    "        g_loss.backward()\n",
    "        optimizer_g.step()\n",
    "        \n",
    "        optimizer_d.zero_grad()\n",
    "        d_loss = (real_loss + fake_loss) / 2\n",
    "        d_loss.backward()\n",
    "        optimizer_d.step()\n",
    "#     print (\"[D loss: %f] [G loss: %f]\" % (d_loss.item(), g_loss.item()))\n",
    "    if epoch % 10 == 0 :\n",
    "        torch.cuda.empty_cache()\n",
    "        print (\"[D loss: %f] [G loss: %f]\" % (d_loss.item(), g_loss.item()))\n",
    "        model_file = \"gan%d/models/gan%d.pt\" %(gan_number,epoch)\n",
    "        img_file = \"gan%d/images/%d.png\" %(gan_number,epoch)\n",
    "        torch.save(gan, model_file)\n",
    "        save_image(gen_img.data[:25], img_file, nrow=5, normalize=True)    "
   ]
  },
  {
   "cell_type": "code",
   "execution_count": 10,
   "metadata": {},
   "outputs": [
    {
     "name": "stdout",
     "output_type": "stream",
     "text": [
      "[D loss: 0.299966] [G loss: 3.164120]\n"
     ]
    },
    {
     "name": "stderr",
     "output_type": "stream",
     "text": [
      "/jet/var/python/lib/python3.6/site-packages/torch/serialization.py:241: UserWarning: Couldn't retrieve source code for container of type GAN1. It won't be checked for correctness upon loading.\n",
      "  \"type \" + obj.__name__ + \". It won't be checked \"\n",
      "/jet/var/python/lib/python3.6/site-packages/torch/serialization.py:241: UserWarning: Couldn't retrieve source code for container of type Discriminator1. It won't be checked for correctness upon loading.\n",
      "  \"type \" + obj.__name__ + \". It won't be checked \"\n",
      "/jet/var/python/lib/python3.6/site-packages/torch/serialization.py:241: UserWarning: Couldn't retrieve source code for container of type Generator1. It won't be checked for correctness upon loading.\n",
      "  \"type \" + obj.__name__ + \". It won't be checked \"\n"
     ]
    },
    {
     "name": "stdout",
     "output_type": "stream",
     "text": [
      "[D loss: 0.115951] [G loss: 3.328443]\n",
      "[D loss: 0.161005] [G loss: 3.308055]\n",
      "[D loss: 0.037031] [G loss: 3.642890]\n",
      "[D loss: 0.094922] [G loss: 4.218652]\n",
      "[D loss: 0.048096] [G loss: 3.359873]\n",
      "[D loss: 0.109202] [G loss: 5.441256]\n",
      "[D loss: 0.120905] [G loss: 4.200471]\n",
      "[D loss: 0.307409] [G loss: 7.524408]\n",
      "[D loss: 0.263560] [G loss: 4.578220]\n",
      "[D loss: 0.161660] [G loss: 3.900024]\n",
      "[D loss: 0.033263] [G loss: 4.226141]\n",
      "[D loss: 0.029113] [G loss: 6.682710]\n",
      "[D loss: 0.037671] [G loss: 5.838984]\n",
      "[D loss: 0.077551] [G loss: 3.722403]\n",
      "[D loss: 0.062109] [G loss: 3.572708]\n",
      "[D loss: 0.045669] [G loss: 7.441618]\n",
      "[D loss: 0.034755] [G loss: 5.344816]\n",
      "[D loss: 0.101658] [G loss: 5.577047]\n",
      "[D loss: 0.002658] [G loss: 7.635423]\n",
      "[D loss: 0.070197] [G loss: 5.292394]\n",
      "[D loss: 0.007477] [G loss: 5.460470]\n",
      "[D loss: 0.232115] [G loss: 9.060591]\n",
      "[D loss: 0.129756] [G loss: 6.455109]\n",
      "[D loss: 0.067354] [G loss: 4.747743]\n",
      "[D loss: 0.062026] [G loss: 5.958092]\n",
      "[D loss: 0.043424] [G loss: 4.833499]\n",
      "[D loss: 0.089330] [G loss: 2.694772]\n",
      "[D loss: 0.081356] [G loss: 4.710995]\n",
      "[D loss: 0.026783] [G loss: 4.588550]\n",
      "[D loss: 0.033145] [G loss: 4.353066]\n",
      "[D loss: 0.085445] [G loss: 2.573732]\n",
      "[D loss: 0.078955] [G loss: 3.735849]\n",
      "[D loss: 0.047535] [G loss: 3.673229]\n",
      "[D loss: 0.088010] [G loss: 8.274862]\n",
      "[D loss: 0.050465] [G loss: 2.860980]\n",
      "[D loss: 0.071583] [G loss: 3.277780]\n",
      "[D loss: 0.301336] [G loss: 4.987052]\n",
      "[D loss: 0.092636] [G loss: 4.743896]\n",
      "[D loss: 0.107820] [G loss: 4.356790]\n",
      "[D loss: 0.056139] [G loss: 5.361749]\n",
      "[D loss: 0.273139] [G loss: 3.292062]\n",
      "[D loss: 0.143383] [G loss: 3.603232]\n",
      "[D loss: 0.197245] [G loss: 4.035206]\n",
      "[D loss: 0.142864] [G loss: 3.398161]\n",
      "[D loss: 0.229786] [G loss: 4.353006]\n",
      "[D loss: 0.151884] [G loss: 7.462816]\n",
      "[D loss: 0.040618] [G loss: 4.275157]\n",
      "[D loss: 0.127610] [G loss: 3.811103]\n",
      "[D loss: 0.143395] [G loss: 4.004935]\n"
     ]
    }
   ],
   "source": [
    "gan1 = GAN1()\n",
    "optimizer_g = torch.optim.Adam(gan1.generator.parameters(), lr=lr)\n",
    "optimizer_d = torch.optim.Adam(gan1.discriminator.parameters(), lr=lr)\n",
    "\n",
    "for i in range(500):\n",
    "    run_gan(dataloader, gan1, optimizer_g, optimizer_d, i, 3)"
   ]
  },
  {
   "cell_type": "code",
   "execution_count": 11,
   "metadata": {},
   "outputs": [
    {
     "name": "stdout",
     "output_type": "stream",
     "text": [
      "[D loss: 0.097600] [G loss: 3.067646]\n"
     ]
    },
    {
     "name": "stderr",
     "output_type": "stream",
     "text": [
      "/jet/var/python/lib/python3.6/site-packages/torch/serialization.py:241: UserWarning: Couldn't retrieve source code for container of type GAN2. It won't be checked for correctness upon loading.\n",
      "  \"type \" + obj.__name__ + \". It won't be checked \"\n",
      "/jet/var/python/lib/python3.6/site-packages/torch/serialization.py:241: UserWarning: Couldn't retrieve source code for container of type Discriminator2. It won't be checked for correctness upon loading.\n",
      "  \"type \" + obj.__name__ + \". It won't be checked \"\n",
      "/jet/var/python/lib/python3.6/site-packages/torch/serialization.py:241: UserWarning: Couldn't retrieve source code for container of type Generator2. It won't be checked for correctness upon loading.\n",
      "  \"type \" + obj.__name__ + \". It won't be checked \"\n"
     ]
    },
    {
     "name": "stdout",
     "output_type": "stream",
     "text": [
      "[D loss: 0.167209] [G loss: 2.883319]\n",
      "[D loss: 0.180146] [G loss: 2.690252]\n",
      "[D loss: 0.102366] [G loss: 2.881555]\n",
      "[D loss: 0.073220] [G loss: 4.795817]\n",
      "[D loss: 0.185620] [G loss: 4.231509]\n",
      "[D loss: 0.018788] [G loss: 5.192479]\n",
      "[D loss: 0.227863] [G loss: 6.585853]\n",
      "[D loss: 0.072446] [G loss: 5.536769]\n",
      "[D loss: 0.049745] [G loss: 4.304088]\n",
      "[D loss: 0.163303] [G loss: 3.461035]\n",
      "[D loss: 0.079035] [G loss: 4.695574]\n",
      "[D loss: 0.026474] [G loss: 6.172735]\n",
      "[D loss: 0.109875] [G loss: 6.399917]\n",
      "[D loss: 0.066072] [G loss: 4.646819]\n",
      "[D loss: 0.166195] [G loss: 4.012285]\n",
      "[D loss: 0.073047] [G loss: 7.679369]\n",
      "[D loss: 0.113361] [G loss: 8.163986]\n",
      "[D loss: 0.202540] [G loss: 6.109647]\n",
      "[D loss: 0.066149] [G loss: 3.045276]\n",
      "[D loss: 0.144828] [G loss: 4.141537]\n",
      "[D loss: 0.011151] [G loss: 7.149577]\n",
      "[D loss: 0.025199] [G loss: 3.939393]\n",
      "[D loss: 0.223856] [G loss: 4.794902]\n",
      "[D loss: 0.103146] [G loss: 4.092116]\n",
      "[D loss: 0.009292] [G loss: 5.005027]\n",
      "[D loss: 0.043777] [G loss: 5.915321]\n",
      "[D loss: 0.026891] [G loss: 7.510965]\n",
      "[D loss: 0.143149] [G loss: 6.103864]\n",
      "[D loss: 0.168935] [G loss: 4.585710]\n",
      "[D loss: 0.150702] [G loss: 3.938515]\n",
      "[D loss: 0.043047] [G loss: 5.591506]\n",
      "[D loss: 0.063134] [G loss: 3.955415]\n",
      "[D loss: 0.023231] [G loss: 6.081146]\n",
      "[D loss: 0.218902] [G loss: 4.478435]\n",
      "[D loss: 0.111325] [G loss: 7.093885]\n",
      "[D loss: 0.194092] [G loss: 5.083550]\n",
      "[D loss: 0.126693] [G loss: 3.193168]\n",
      "[D loss: 0.082014] [G loss: 4.455947]\n",
      "[D loss: 0.102939] [G loss: 3.328770]\n",
      "[D loss: 0.105304] [G loss: 4.265505]\n",
      "[D loss: 0.042508] [G loss: 5.003506]\n",
      "[D loss: 0.047066] [G loss: 3.457253]\n",
      "[D loss: 0.044456] [G loss: 5.176131]\n",
      "[D loss: 0.108836] [G loss: 3.596637]\n",
      "[D loss: 0.209554] [G loss: 5.375165]\n",
      "[D loss: 0.144332] [G loss: 5.118526]\n",
      "[D loss: 0.123963] [G loss: 5.806181]\n",
      "[D loss: 0.108956] [G loss: 3.589151]\n",
      "[D loss: 0.218346] [G loss: 3.649876]\n"
     ]
    }
   ],
   "source": [
    "gan2 = GAN2()\n",
    "optimizer_g = torch.optim.Adam(gan2.generator.parameters(), lr=lr)\n",
    "optimizer_d = torch.optim.Adam(gan2.discriminator.parameters(), lr=lr)\n",
    "\n",
    "for i in range(500):\n",
    "    run_gan(dataloader, gan2, optimizer_g, optimizer_d, i, 4)"
   ]
  },
  {
   "cell_type": "code",
   "execution_count": 13,
   "metadata": {},
   "outputs": [],
   "source": [
    "def eval_gan(loader, gan):\n",
    "    g_losses = 0\n",
    "    d_losses = 0\n",
    "    for (img, _) in loader:\n",
    "        img = img.to(device)\n",
    "        gen_img, disc_gen, disc_gen_det, disc_real = gan(img)\n",
    "        fake_loss = adversarial_loss(disc_gen_det, fake)\n",
    "        real_loss = adversarial_loss(disc_real, valid)\n",
    "        g_loss = adversarial_loss(disc_gen, valid)\n",
    "        d_loss = (real_loss + fake_loss) / 2\n",
    "        g_losses += g_loss.item()\n",
    "        d_losses += d_loss.item()\n",
    "#         torch.cuda.empty_cache()\n",
    "    return g_losses, d_losses"
   ]
  },
  {
   "cell_type": "code",
   "execution_count": 17,
   "metadata": {},
   "outputs": [],
   "source": [
    "g_losses = []\n",
    "d_losses = []\n",
    "for i in range(0, 100, 10):\n",
    "    gan3 = GAN3(disc_epoch=i, gen_epoch=90,disc_gan=1, gen_gan=2)\n",
    "    g_loss, d_loss = eval_gan(dataloader, gan3)\n",
    "    g_losses.append(g_loss)\n",
    "    d_losses.append(d_loss)"
   ]
  },
  {
   "cell_type": "code",
   "execution_count": 23,
   "metadata": {},
   "outputs": [
    {
     "data": {
      "image/png": "[encoded data removed]",
      "text/plain": [
       "<Figure size 432x288 with 1 Axes>"
      ]
     },
     "metadata": {},
     "output_type": "display_data"
    }
   ],
   "source": [
    "fig, ax = plt.subplots( nrows=1, ncols=1 )\n",
    "ax.plot(d_losses)\n",
    "plt.ylabel(\"dicriminator loss\")\n",
    "plt.xlabel(\"discriminator epochs for fixed generator\")\n",
    "plt.title(\"Discriminator loss agains various epoch with a fixed generator\")\n",
    "plt.show()\n",
    "fig.savefig('disc_loss_fixed_gen.png')\n",
    "plt.close(fig) "
   ]
  },
  {
   "cell_type": "code",
   "execution_count": 24,
   "metadata": {},
   "outputs": [
    {
     "data": {
      "image/png": "[encoded data removed]",
      "text/plain": [
       "<Figure size 432x288 with 1 Axes>"
      ]
     },
     "metadata": {},
     "output_type": "display_data"
    }
   ],
   "source": [
    "fig, ax = plt.subplots( nrows=1, ncols=1 )\n",
    "ax.plot(g_losses)\n",
    "plt.ylabel(\"generator loss\")\n",
    "plt.xlabel(\"discriminator epochs for fixed generator\")\n",
    "plt.title(\"Generator loss agains various epoch with a fixed generator\")\n",
    "plt.show()\n",
    "fig.savefig('gen_loss_fixed_gen.png')   # save the figure to file\n",
    "plt.close(fig) "
   ]
  },
  {
   "cell_type": "code",
   "execution_count": null,
   "metadata": {},
   "outputs": [],
   "source": [
    "d_losses"
   ]
  },
  {
   "cell_type": "code",
   "execution_count": null,
   "metadata": {},
   "outputs": [],
   "source": [
    "g_losses"
   ]
  },
  {
   "cell_type": "code",
   "execution_count": 25,
   "metadata": {},
   "outputs": [],
   "source": [
    "g_losses = []\n",
    "d_losses = []\n",
    "for i in range(0, 100, 10):\n",
    "    gan3 = GAN3(disc_epoch=90, gen_epoch=i, disc_gan=2, gen_gan=1)\n",
    "    g_loss, d_loss = eval_gan(dataloader, gan3)\n",
    "    g_losses.append(g_loss)\n",
    "    d_losses.append(d_loss)"
   ]
  },
  {
   "cell_type": "code",
   "execution_count": 26,
   "metadata": {},
   "outputs": [
    {
     "data": {
      "image/png": "[encoded data removed]",
      "text/plain": [
       "<Figure size 432x288 with 1 Axes>"
      ]
     },
     "metadata": {},
     "output_type": "display_data"
    }
   ],
   "source": [
    "fig, ax = plt.subplots( nrows=1, ncols=1 )\n",
    "ax.plot(d_losses)\n",
    "plt.ylabel(\"dicriminator loss\")\n",
    "plt.xlabel(\"generator epochs for fixed discriminator\")\n",
    "plt.title(\"Discriminator loss agains various epoch with a fixed discriminator\")\n",
    "plt.show()\n",
    "fig.savefig('disc_loss_fixed_disc.png')\n",
    "plt.close(fig) "
   ]
  },
  {
   "cell_type": "code",
   "execution_count": 27,
   "metadata": {},
   "outputs": [
    {
     "data": {
      "image/png": "[encoded data removed]",
      "text/plain": [
       "<Figure size 432x288 with 1 Axes>"
      ]
     },
     "metadata": {},
     "output_type": "display_data"
    }
   ],
   "source": [
    "fig, ax = plt.subplots( nrows=1, ncols=1 )\n",
    "ax.plot(g_losses)\n",
    "plt.ylabel(\"generator loss\")\n",
    "plt.xlabel(\"generator epochs for fixed discriminator\")\n",
    "plt.title(\"Generator loss agains various epoch with a fixed discriminator\")\n",
    "plt.show()\n",
    "fig.savefig('gen_loss_fixed_disc.png')\n",
    "plt.close(fig) "
   ]
  },
  {
   "cell_type": "code",
   "execution_count": null,
   "metadata": {},
   "outputs": [],
   "source": []
  }
 ],
 "metadata": {
  "kernelspec": {
   "display_name": "Python 3",
   "language": "python",
   "name": "python3"
  },
  "language_info": {
   "codemirror_mode": {
    "name": "ipython",
    "version": 3
   },
   "file_extension": ".py",
   "mimetype": "text/x-python",
   "name": "python",
   "nbconvert_exporter": "python",
   "pygments_lexer": "ipython3",
   "version": "3.6.3"
  }
 },
 "nbformat": 4,
 "nbformat_minor": 2
}
