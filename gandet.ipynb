{
 "cells": [
  {
   "cell_type": "code",
   "execution_count": 1,
   "metadata": {},
   "outputs": [],
   "source": [
    "import numpy as np\n",
    "import torch\n",
    "import torch.nn as nn\n",
    "import torchvision.transforms as transforms\n",
    "from torch.utils.data import DataLoader\n",
    "from torchvision import datasets\n",
    "from torchvision.utils import save_image\n",
    "import os\n",
    "import matplotlib.pyplot as plt\n",
    "\n",
    "%matplotlib inline"
   ]
  },
  {
   "cell_type": "code",
   "execution_count": 2,
   "metadata": {},
   "outputs": [],
   "source": [
    "# Define constants\n",
    "epochs = 200\n",
    "batch_size = 64\n",
    "lr = 0.0002\n",
    "nworkers = 8\n",
    "latent_dim = 100\n",
    "sample_interval = 400\n",
    "img_shape = (1, 28, 28)\n",
    "adversarial_loss = torch.nn.BCELoss()\n",
    "device = 'cuda'\n",
    "valid = torch.ones(batch_size, 1, device=device)\n",
    "fake = torch.zeros(batch_size, 1, device=device)\n"
   ]
  },
  {
   "cell_type": "code",
   "execution_count": 3,
   "metadata": {},
   "outputs": [],
   "source": [
    "# Configure data loader\n",
    "os.makedirs('./data/mnist', exist_ok=True)\n",
    "transform = transforms.Compose([\n",
    "                        transforms.ToTensor(),\n",
    "                        transforms.Normalize((0.5, 0.5, 0.5), (0.5, 0.5, 0.5))\n",
    "                   ])\n",
    "\n",
    "dataset = datasets.MNIST('./data/mnist', train=True, download=True, transform=transform)\n",
    "\n",
    "dataloader = torch.utils.data.DataLoader(dataset, batch_size=batch_size, shuffle=True, drop_last=True)\n"
   ]
  },
  {
   "cell_type": "code",
   "execution_count": 4,
   "metadata": {},
   "outputs": [],
   "source": [
    "class Generator1(nn.Module):\n",
    "    def __init__(self):\n",
    "        super(Generator1, self).__init__()\n",
    "\n",
    "        def block(in_feat, out_feat, normalize=True):\n",
    "            layers = [nn.Linear(in_feat, out_feat)]\n",
    "            if normalize:\n",
    "                layers.append(nn.BatchNorm1d(out_feat, 0.8))\n",
    "            layers.append(nn.LeakyReLU(0.2, inplace=True))\n",
    "            return layers\n",
    "\n",
    "        self.model = nn.Sequential(\n",
    "            *block(latent_dim, 128, normalize=False),\n",
    "            *block(128, 256),\n",
    "            *block(256, 512),\n",
    "            *block(512, 1024),\n",
    "            nn.Linear(1024, int(np.prod(img_shape))),\n",
    "            nn.Tanh()\n",
    "        )\n",
    "\n",
    "    def forward(self, z):\n",
    "        img = self.model(z)\n",
    "        img = img.view(img.size(0), *img_shape)\n",
    "        return img\n",
    "\n",
    "\n",
    "class Discriminator1(nn.Module):\n",
    "    def __init__(self):\n",
    "        super(Discriminator1, self).__init__()\n",
    "\n",
    "        self.model = nn.Sequential(\n",
    "            nn.Linear(int(np.prod(img_shape)), 512),\n",
    "            nn.LeakyReLU(0.2, inplace=True),\n",
    "            nn.Linear(512, 256),\n",
    "            nn.LeakyReLU(0.2, inplace=True),\n",
    "            nn.Linear(256, 1),\n",
    "            nn.Sigmoid()\n",
    "        )\n",
    "\n",
    "    def forward(self, img):\n",
    "        img_flat = img.view(img.size(0), -1)\n",
    "        validity = self.model(img_flat)\n",
    "\n",
    "        return validity\n",
    "\n",
    "class Generator2(nn.Module):\n",
    "    def __init__(self):\n",
    "        super(Generator2, self).__init__()\n",
    "\n",
    "        def block(in_feat, out_feat, normalize=True):\n",
    "            layers = [nn.Linear(in_feat, out_feat)]\n",
    "            if normalize:\n",
    "                layers.append(nn.BatchNorm1d(out_feat, 0.8))\n",
    "            layers.append(nn.LeakyReLU(0.2, inplace=True))\n",
    "            return layers\n",
    "\n",
    "        self.model = nn.Sequential(\n",
    "            *block(latent_dim, 128, normalize=False),\n",
    "            *block(128, 256),\n",
    "            *block(256, 512),\n",
    "            *block(512, 1024),\n",
    "            nn.Linear(1024, int(np.prod(img_shape))),\n",
    "            nn.Tanh()\n",
    "        )\n",
    "\n",
    "    def forward(self, z):\n",
    "        img = self.model(z)\n",
    "        img = img.view(img.size(0), *img_shape)\n",
    "        return img\n",
    "\n",
    "\n",
    "class Discriminator2(nn.Module):\n",
    "    def __init__(self):\n",
    "        super(Discriminator2, self).__init__()\n",
    "\n",
    "        self.model = nn.Sequential(\n",
    "            nn.Linear(int(np.prod(img_shape)), 512),\n",
    "            nn.LeakyReLU(0.2, inplace=True),\n",
    "            nn.Linear(512, 256),\n",
    "            nn.LeakyReLU(0.2, inplace=True),\n",
    "            nn.Linear(256, 1),\n",
    "            nn.Sigmoid()\n",
    "        )\n",
    "\n",
    "    def forward(self, img):\n",
    "        img_flat = img.view(img.size(0), -1)\n",
    "        validity = self.model(img_flat)\n",
    "\n",
    "        return validity    "
   ]
  },
  {
   "cell_type": "code",
   "execution_count": 5,
   "metadata": {},
   "outputs": [],
   "source": [
    "class GAN1(nn.Module):\n",
    "    def __init__(self):\n",
    "        super().__init__()\n",
    "        self.discriminator = Discriminator1().to(device)\n",
    "        self.generator = Generator1().to(device)\n",
    "\n",
    "    def forward(self, real_imgs):\n",
    "        # Generator Forward\n",
    "        z = torch.Tensor(np.random.normal(0, 1, (real_imgs.shape[0], latent_dim))).to(device)\n",
    "        self.gen_img = self.generator(z)\n",
    "        self.disc_gen = self.discriminator(self.gen_img)\n",
    "        # This clears the function graph built up for the discriminator\n",
    "        self.discriminator.zero_grad()\n",
    "\n",
    "        # Discriminator Forward\n",
    "        self.disc_gen_det = self.discriminator(self.gen_img.detach())\n",
    "        self.disc_real = self.discriminator(real_imgs)\n",
    "        \n",
    "        return self.gen_img, self.disc_gen, self.disc_gen_det, self.disc_real\n",
    "\n",
    "class GAN2(nn.Module):\n",
    "    def __init__(self):\n",
    "        super().__init__()\n",
    "        self.discriminator = Discriminator2().to(device)\n",
    "        self.generator = Generator2().to(device)\n",
    "\n",
    "    def forward(self, real_imgs):\n",
    "        # Generator Forward\n",
    "        z = torch.Tensor(np.random.normal(0, 1, (real_imgs.shape[0], latent_dim))).to(device)\n",
    "        self.gen_img = self.generator(z)\n",
    "        self.disc_gen = self.discriminator(self.gen_img)\n",
    "        # This clears the function graph built up for the discriminator\n",
    "        self.discriminator.zero_grad()\n",
    "\n",
    "        # Discriminator Forward\n",
    "        self.disc_gen_det = self.discriminator(self.gen_img.detach())\n",
    "        self.disc_real = self.discriminator(real_imgs)\n",
    "        \n",
    "        return self.gen_img, self.disc_gen, self.disc_gen_det, self.disc_real\n",
    "\n",
    "class GAN3(nn.Module):\n",
    "    def __init__(self, disc_epoch, gen_epoch):\n",
    "        super().__init__()\n",
    "        gan1 = torch.load(\"gan1/models/gan%d.pt\" %gen_epoch)\n",
    "        gan2 = torch.load(\"gan2/models/gan%d.pt\" %disc_epoch)\n",
    "        self.generator = gan1.generator.to(device)\n",
    "        self.discriminator = gan2.discriminator.to(device)\n",
    "\n",
    "    def forward(self, real_imgs):\n",
    "        # Generator Forward\n",
    "        z = torch.Tensor(np.random.normal(0, 1, (real_imgs.shape[0], latent_dim))).to(device)\n",
    "        self.gen_img = self.generator(z)\n",
    "        self.disc_gen = self.discriminator(self.gen_img)\n",
    "        # This clears the function graph built up for the discriminator\n",
    "        self.discriminator.zero_grad()\n",
    "\n",
    "        # Discriminator Forward\n",
    "        self.disc_gen_det = self.discriminator(self.gen_img.detach())\n",
    "        self.disc_real = self.discriminator(real_imgs)\n",
    "        \n",
    "        return self.gen_img, self.disc_gen, self.disc_gen_det, self.disc_real    "
   ]
  },
  {
   "cell_type": "code",
   "execution_count": 6,
   "metadata": {},
   "outputs": [],
   "source": [
    "def run_gan(loader, gan, optimizer_g, optimizer_d, epoch, gan_number):\n",
    "    for (img, _) in loader:\n",
    "        img = img.to(device)\n",
    "        gen_img, disc_gen, disc_gen_det, disc_real = gan(img)\n",
    "        optimizer_g.zero_grad()\n",
    "        fake_loss = adversarial_loss(disc_gen_det, fake)\n",
    "        real_loss = adversarial_loss(disc_real, valid)\n",
    "        g_loss = adversarial_loss(disc_gen, valid)\n",
    "        g_loss.backward()\n",
    "        optimizer_g.step()\n",
    "        \n",
    "        optimizer_d.zero_grad()\n",
    "        d_loss = (real_loss + fake_loss) / 2\n",
    "        d_loss.backward()\n",
    "        optimizer_d.step()\n",
    "#     print (\"[D loss: %f] [G loss: %f]\" % (d_loss.item(), g_loss.item()))\n",
    "    if epoch % 10 == 0 :\n",
    "        torch.cuda.empty_cache()\n",
    "        print (\"[D loss: %f] [G loss: %f]\" % (d_loss.item(), g_loss.item()))\n",
    "        model_file = \"gan%d/models/gan%d.pt\" %(gan_number,epoch)\n",
    "        img_file = \"gan%d/images/%d.png\" %(gan_number,epoch)\n",
    "        torch.save(gan, model_file)\n",
    "        save_image(gen_img.data[:25], img_file, nrow=5, normalize=True)    "
   ]
  },
  {
   "cell_type": "code",
   "execution_count": null,
   "metadata": {},
   "outputs": [],
   "source": [
    "gan1 = GAN1()\n",
    "optimizer_g = torch.optim.Adam(gan1.generator.parameters(), lr=lr)\n",
    "optimizer_d = torch.optim.Adam(gan1.discriminator.parameters(), lr=lr)\n",
    "\n",
    "for i in range(100):\n",
    "    run_gan(dataloader, gan1, optimizer_g, optimizer_d, i, 1)"
   ]
  },
  {
   "cell_type": "code",
   "execution_count": null,
   "metadata": {},
   "outputs": [],
   "source": [
    "gan2 = GAN2()\n",
    "optimizer_g = torch.optim.Adam(gan2.generator.parameters(), lr=lr)\n",
    "optimizer_d = torch.optim.Adam(gan2.discriminator.parameters(), lr=lr)\n",
    "\n",
    "for i in range(100):\n",
    "    run_gan(dataloader, gan2, optimizer_g, optimizer_d, i, 2)"
   ]
  },
  {
   "cell_type": "code",
   "execution_count": 7,
   "metadata": {},
   "outputs": [],
   "source": [
    "def eval_gan(loader, gan):\n",
    "    g_losses = 0\n",
    "    d_losses = 0\n",
    "    for (img, _) in loader:\n",
    "        img = img.to(device)\n",
    "        gen_img, disc_gen, disc_gen_det, disc_real = gan(img)\n",
    "        fake_loss = adversarial_loss(disc_gen_det, fake)\n",
    "        real_loss = adversarial_loss(disc_real, valid)\n",
    "        g_loss = adversarial_loss(disc_gen, valid)\n",
    "        d_loss = (real_loss + fake_loss) / 2\n",
    "        g_losses += g_loss.item()\n",
    "        d_losses += d_loss.item()\n",
    "#         torch.cuda.empty_cache()\n",
    "    return g_losses, d_losses"
   ]
  },
  {
   "cell_type": "code",
   "execution_count": 11,
   "metadata": {},
   "outputs": [],
   "source": [
    "g_losses = []\n",
    "d_losses = []\n",
    "for i in range(0, 100, 10):\n",
    "    gan3 = GAN3(disc_epoch=i, gen_epoch=90)\n",
    "    g_loss, d_loss = eval_gan(dataloader, gan3)\n",
    "    g_losses.append(g_loss)\n",
    "    d_losses.append(d_loss)"
   ]
  },
  {
   "cell_type": "code",
   "execution_count": 12,
   "metadata": {},
   "outputs": [
    {
     "data": {
      "text/plain": [
       "[<matplotlib.lines.Line2D at 0x7f1cb2c4e240>]"
      ]
     },
     "execution_count": 12,
     "metadata": {},
     "output_type": "execute_result"
    },
    {
     "data": {
      "image/png": "[encoded data removed]",
      "text/plain": [
       "<Figure size 432x288 with 1 Axes>"
      ]
     },
     "metadata": {},
     "output_type": "display_data"
    }
   ],
   "source": [
    "plt.plot(d_losses)"
   ]
  },
  {
   "cell_type": "code",
   "execution_count": 13,
   "metadata": {},
   "outputs": [
    {
     "data": {
      "text/plain": [
       "[<matplotlib.lines.Line2D at 0x7f1cb2d7d550>]"
      ]
     },
     "execution_count": 13,
     "metadata": {},
     "output_type": "execute_result"
    },
    {
     "data": {
      "image/png": "[encoded data removed]",
      "text/plain": [
       "<Figure size 432x288 with 1 Axes>"
      ]
     },
     "metadata": {},
     "output_type": "display_data"
    }
   ],
   "source": [
    "plt.plot(g_losses)"
   ]
  },
  {
   "cell_type": "code",
   "execution_count": null,
   "metadata": {},
   "outputs": [],
   "source": [
    "d_losses"
   ]
  },
  {
   "cell_type": "code",
   "execution_count": null,
   "metadata": {},
   "outputs": [],
   "source": [
    "g_losses"
   ]
  },
  {
   "cell_type": "code",
   "execution_count": 8,
   "metadata": {},
   "outputs": [],
   "source": [
    "g_losses = []\n",
    "d_losses = []\n",
    "for i in range(0, 100, 10):\n",
    "    gan3 = GAN3(disc_epoch=90, gen_epoch=i)\n",
    "    g_loss, d_loss = eval_gan(dataloader, gan3)\n",
    "    g_losses.append(g_loss)\n",
    "    d_losses.append(d_loss)"
   ]
  },
  {
   "cell_type": "code",
   "execution_count": 9,
   "metadata": {},
   "outputs": [
    {
     "data": {
      "text/plain": [
       "[<matplotlib.lines.Line2D at 0x7f1cb2bc5630>]"
      ]
     },
     "execution_count": 9,
     "metadata": {},
     "output_type": "execute_result"
    },
    {
     "data": {
      "image/png": "[encoded data removed]",
      "text/plain": [
       "<Figure size 432x288 with 1 Axes>"
      ]
     },
     "metadata": {},
     "output_type": "display_data"
    }
   ],
   "source": [
    "plt.plot(d_losses)"
   ]
  },
  {
   "cell_type": "code",
   "execution_count": 10,
   "metadata": {},
   "outputs": [
    {
     "data": {
      "text/plain": [
       "[<matplotlib.lines.Line2D at 0x7f1cb2dc3b38>]"
      ]
     },
     "execution_count": 10,
     "metadata": {},
     "output_type": "execute_result"
    },
    {
     "data": {
      "image/png": "[encoded data removed]",
      "text/plain": [
       "<Figure size 432x288 with 1 Axes>"
      ]
     },
     "metadata": {},
     "output_type": "display_data"
    }
   ],
   "source": [
    "plt.plot(g_losses)"
   ]
  },
  {
   "cell_type": "code",
   "execution_count": null,
   "metadata": {},
   "outputs": [],
   "source": []
  }
 ],
 "metadata": {
  "kernelspec": {
   "display_name": "Python 3",
   "language": "python",
   "name": "python3"
  },
  "language_info": {
   "codemirror_mode": {
    "name": "ipython",
    "version": 3
   },
   "file_extension": ".py",
   "mimetype": "text/x-python",
   "name": "python",
   "nbconvert_exporter": "python",
   "pygments_lexer": "ipython3",
   "version": "3.6.3"
  }
 },
 "nbformat": 4,
 "nbformat_minor": 2
}
